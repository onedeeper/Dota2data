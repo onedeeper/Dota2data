{
 "cells": [
  {
   "cell_type": "code",
   "execution_count": 1,
   "metadata": {},
   "outputs": [],
   "source": [
    "import requests\n",
    "import json\n",
    "import pandas as pd"
   ]
  },
  {
   "cell_type": "code",
   "execution_count": 2,
   "metadata": {},
   "outputs": [],
   "source": [
    "#get RTZs matches\n",
    "r = requests.get(\"https://api.opendota.com/api/players/86745912/matches\")\n",
    "with open('arteezy.json', 'w') as out:\n",
    "                json.dump(r.json(), out, sort_keys=True, indent='\\t')"
   ]
  },
  {
   "cell_type": "code",
   "execution_count": 3,
   "metadata": {},
   "outputs": [],
   "source": [
    "rtz = pd.read_json('arteezy.json')"
   ]
  },
  {
   "cell_type": "code",
   "execution_count": 26,
   "metadata": {},
   "outputs": [],
   "source": [
    "#get the heroes \n",
    "r = requests.get(\"https://api.opendota.com/api/constants/heroes\")\n",
    "\n",
    "with open('heroes.json', 'w') as out:\n",
    "                json.dump(r.json(), out, sort_keys=True, indent='\\t')"
   ]
  },
  {
   "cell_type": "code",
   "execution_count": 27,
   "metadata": {},
   "outputs": [],
   "source": [
    "heroes = pd.read_json('heroes.json')"
   ]
  },
  {
   "cell_type": "code",
   "execution_count": 28,
   "metadata": {},
   "outputs": [],
   "source": [
    "heroes = heroes.T"
   ]
  },
  {
   "cell_type": "code",
   "execution_count": 12,
   "metadata": {},
   "outputs": [],
   "source": [
    "heroes.to_csv('heroes.csv')"
   ]
  },
  {
   "cell_type": "code",
   "execution_count": 18,
   "metadata": {},
   "outputs": [],
   "source": [
    "# Create a dictionary which maps the hero id to hero name\n",
    "hero_dict = pd.Series(heroes.localized_name.values,index = heroes.id).to_dict()"
   ]
  },
  {
   "cell_type": "code",
   "execution_count": 31,
   "metadata": {},
   "outputs": [],
   "source": [
    "# Replace the hero id with the hero name in RTZ's games\n",
    "rtz_matches = pd.read_csv(\"rtz.csv\")\n",
    "rtz_matches = rtz_matches.replace({\"hero_id\": hero_dict})"
   ]
  },
  {
   "cell_type": "code",
   "execution_count": 32,
   "metadata": {},
   "outputs": [
    {
     "data": {
      "text/html": [
       "<div>\n",
       "<style scoped>\n",
       "    .dataframe tbody tr th:only-of-type {\n",
       "        vertical-align: middle;\n",
       "    }\n",
       "\n",
       "    .dataframe tbody tr th {\n",
       "        vertical-align: top;\n",
       "    }\n",
       "\n",
       "    .dataframe thead th {\n",
       "        text-align: right;\n",
       "    }\n",
       "</style>\n",
       "<table border=\"1\" class=\"dataframe\">\n",
       "  <thead>\n",
       "    <tr style=\"text-align: right;\">\n",
       "      <th></th>\n",
       "      <th>Unnamed: 0</th>\n",
       "      <th>Unnamed: 0.1</th>\n",
       "      <th>assists</th>\n",
       "      <th>deaths</th>\n",
       "      <th>duration</th>\n",
       "      <th>game_mode</th>\n",
       "      <th>hero_id</th>\n",
       "      <th>kills</th>\n",
       "      <th>leaver_status</th>\n",
       "      <th>lobby_type</th>\n",
       "      <th>match_id</th>\n",
       "      <th>party_size</th>\n",
       "      <th>player_slot</th>\n",
       "      <th>radiant_win</th>\n",
       "      <th>skill</th>\n",
       "      <th>start_time</th>\n",
       "      <th>version</th>\n",
       "    </tr>\n",
       "  </thead>\n",
       "  <tbody>\n",
       "    <tr>\n",
       "      <th>0</th>\n",
       "      <td>0</td>\n",
       "      <td>0</td>\n",
       "      <td>4</td>\n",
       "      <td>4</td>\n",
       "      <td>2170</td>\n",
       "      <td>2</td>\n",
       "      <td>Terrorblade</td>\n",
       "      <td>0</td>\n",
       "      <td>1</td>\n",
       "      <td>1</td>\n",
       "      <td>6040802788</td>\n",
       "      <td>10.0</td>\n",
       "      <td>128</td>\n",
       "      <td>1.0</td>\n",
       "      <td>NaN</td>\n",
       "      <td>2021-06-13 21:18:01</td>\n",
       "      <td>21.0</td>\n",
       "    </tr>\n",
       "    <tr>\n",
       "      <th>1</th>\n",
       "      <td>1</td>\n",
       "      <td>1</td>\n",
       "      <td>18</td>\n",
       "      <td>5</td>\n",
       "      <td>2831</td>\n",
       "      <td>2</td>\n",
       "      <td>Nature's Prophet</td>\n",
       "      <td>2</td>\n",
       "      <td>0</td>\n",
       "      <td>1</td>\n",
       "      <td>6040722034</td>\n",
       "      <td>10.0</td>\n",
       "      <td>0</td>\n",
       "      <td>0.0</td>\n",
       "      <td>NaN</td>\n",
       "      <td>2021-06-13 19:58:20</td>\n",
       "      <td>21.0</td>\n",
       "    </tr>\n",
       "    <tr>\n",
       "      <th>2</th>\n",
       "      <td>2</td>\n",
       "      <td>2</td>\n",
       "      <td>4</td>\n",
       "      <td>4</td>\n",
       "      <td>2003</td>\n",
       "      <td>2</td>\n",
       "      <td>Nature's Prophet</td>\n",
       "      <td>0</td>\n",
       "      <td>1</td>\n",
       "      <td>1</td>\n",
       "      <td>6040639859</td>\n",
       "      <td>10.0</td>\n",
       "      <td>128</td>\n",
       "      <td>1.0</td>\n",
       "      <td>NaN</td>\n",
       "      <td>2021-06-13 18:54:58</td>\n",
       "      <td>21.0</td>\n",
       "    </tr>\n",
       "    <tr>\n",
       "      <th>3</th>\n",
       "      <td>3</td>\n",
       "      <td>3</td>\n",
       "      <td>14</td>\n",
       "      <td>1</td>\n",
       "      <td>2208</td>\n",
       "      <td>2</td>\n",
       "      <td>Terrorblade</td>\n",
       "      <td>11</td>\n",
       "      <td>0</td>\n",
       "      <td>1</td>\n",
       "      <td>6040431300</td>\n",
       "      <td>10.0</td>\n",
       "      <td>128</td>\n",
       "      <td>0.0</td>\n",
       "      <td>NaN</td>\n",
       "      <td>2021-06-13 16:20:09</td>\n",
       "      <td>21.0</td>\n",
       "    </tr>\n",
       "    <tr>\n",
       "      <th>4</th>\n",
       "      <td>4</td>\n",
       "      <td>4</td>\n",
       "      <td>11</td>\n",
       "      <td>5</td>\n",
       "      <td>3873</td>\n",
       "      <td>2</td>\n",
       "      <td>Terrorblade</td>\n",
       "      <td>14</td>\n",
       "      <td>1</td>\n",
       "      <td>1</td>\n",
       "      <td>6040270220</td>\n",
       "      <td>10.0</td>\n",
       "      <td>0</td>\n",
       "      <td>0.0</td>\n",
       "      <td>NaN</td>\n",
       "      <td>2021-06-13 14:37:26</td>\n",
       "      <td>21.0</td>\n",
       "    </tr>\n",
       "  </tbody>\n",
       "</table>\n",
       "</div>"
      ],
      "text/plain": [
       "   Unnamed: 0  Unnamed: 0.1  assists  deaths  duration  game_mode  \\\n",
       "0           0             0        4       4      2170          2   \n",
       "1           1             1       18       5      2831          2   \n",
       "2           2             2        4       4      2003          2   \n",
       "3           3             3       14       1      2208          2   \n",
       "4           4             4       11       5      3873          2   \n",
       "\n",
       "            hero_id  kills  leaver_status  lobby_type    match_id  party_size  \\\n",
       "0       Terrorblade      0              1           1  6040802788        10.0   \n",
       "1  Nature's Prophet      2              0           1  6040722034        10.0   \n",
       "2  Nature's Prophet      0              1           1  6040639859        10.0   \n",
       "3       Terrorblade     11              0           1  6040431300        10.0   \n",
       "4       Terrorblade     14              1           1  6040270220        10.0   \n",
       "\n",
       "   player_slot  radiant_win  skill           start_time  version  \n",
       "0          128          1.0    NaN  2021-06-13 21:18:01     21.0  \n",
       "1            0          0.0    NaN  2021-06-13 19:58:20     21.0  \n",
       "2          128          1.0    NaN  2021-06-13 18:54:58     21.0  \n",
       "3          128          0.0    NaN  2021-06-13 16:20:09     21.0  \n",
       "4            0          0.0    NaN  2021-06-13 14:37:26     21.0  "
      ]
     },
     "execution_count": 32,
     "metadata": {},
     "output_type": "execute_result"
    }
   ],
   "source": [
    "rtz_matches.head()"
   ]
  },
  {
   "cell_type": "code",
   "execution_count": null,
   "metadata": {},
   "outputs": [],
   "source": [
    "rtz_matches.to_csv('rtz.csv')"
   ]
  }
 ],
 "metadata": {
  "kernelspec": {
   "display_name": "Python 3",
   "language": "python",
   "name": "python3"
  },
  "language_info": {
   "codemirror_mode": {
    "name": "ipython",
    "version": 3
   },
   "file_extension": ".py",
   "mimetype": "text/x-python",
   "name": "python",
   "nbconvert_exporter": "python",
   "pygments_lexer": "ipython3",
   "version": "3.8.5"
  }
 },
 "nbformat": 4,
 "nbformat_minor": 4
}
